{
 "cells": [
  {
   "cell_type": "markdown",
   "id": "0ddd1671",
   "metadata": {},
   "source": [
    "<h1 style=\"font-size: 1.6rem; font-weight: bold\">ITO 5047: Fundamentals of Artificial Intelligence</h1>\n",
    "<h1 style=\"font-size: 1.6rem; font-weight: bold\">Module 3 - Bayesian Decision Networks</h1>\n",
    "<p style=\"margin-top: 5px; margin-bottom: 5px;\">Monash University Australia</p>\n",
    "<p style=\"margin-top: 5px; margin-bottom: 5px;\">Jupyter Notebook by: Tristan Sim Yook Min</p>\n",
    "\n",
    "---"
   ]
  },
  {
   "cell_type": "markdown",
   "id": "00be8524",
   "metadata": {},
   "source": [
    "### **Bayesian Decision Networks**\n",
    "Decision networks enhance standard Bayesian networks by adding decision-making capabilities through utility theory.\n",
    "\n",
    "**Formula**: Decision Theory = Utility Theory + Probability Theory\n",
    "\n",
    "### **Expected Utility**\n",
    "**Goal**: Choose actions that maximize expected utility\n",
    "\n",
    "**Formula**: $EU(A|E) = Σ Pr(O|E,A) × U(O|A)$\n",
    "\n",
    "**Variables**:\n",
    "- **E** = Available evidence\n",
    "- **A** = Non-deterministic action \n",
    "- **O** = Possible outcome state\n",
    "- **U** = Utility value\n",
    "- **U(O|A)** = Utility of outcome given action A\n",
    "- **Pr(O|E,A)** = Probability of outcome given evidence and action\n",
    "\n",
    "**Process**:\n",
    "1. Consider all possible outcomes from an action\n",
    "2. Multiply each outcome's utility by its probability  \n",
    "3. Sum all values\n",
    "4. Pick action with highest expected utility\n",
    "\n",
    "### **Node Types**\n",
    "\n",
    "**🔵 Chance Nodes (Ovals)**\n",
    "- Random variables with probability tables\n",
    "- Parents can be decision or other chance nodes\n",
    "\n",
    "**🔲 Decision Nodes (Rectangles)**\n",
    "- Represent choice points for decision-maker\n",
    "- Store optimal decisions for different evidence combinations\n",
    "\n",
    "**🔶 Utility Nodes (Diamonds)**\n",
    "- Represent agent's preferences/utility function\n",
    "- Parents are variables that directly affect utility\n",
    "\n",
    "### **Link Types**\n",
    "\n",
    "**Information Links**\n",
    "- Connect to decision nodes\n",
    "- Indicate what information is available when making decisions\n",
    "\n",
    "**Conditioning Links**\n",
    "- Same as regular Bayesian networks\n",
    "- Show probabilistic dependencies between chance nodes\n",
    "\n",
    "---"
   ]
  }
 ],
 "metadata": {
  "language_info": {
   "name": "python"
  }
 },
 "nbformat": 4,
 "nbformat_minor": 5
}
