{
 "cells": [
  {
   "cell_type": "markdown",
   "id": "aa5646a0",
   "metadata": {},
   "source": [
    "<h1 style=\"font-size: 1.6rem; font-weight: bold\">ITO 5047: Fundamentals of Artificial Intelligence</h1>\n",
    "<h1 style=\"font-size: 1.6rem; font-weight: bold\">Machine Learning Methods: Naïve Bayes (Gaussian Exercise)</h1>\n",
    "<p style=\"margin-top: 5px; margin-bottom: 5px;\">Monash University Australia</p>\n",
    "<p style=\"margin-top: 5px; margin-bottom: 5px;\">Jupyter Notebook by: Tristan Sim Yook Min</p>\n",
    "References: Information Source from Monash Faculty of Information Technology\n",
    "\n",
    "---"
   ]
  },
  {
   "cell_type": "markdown",
   "id": "e71ac1ab",
   "metadata": {},
   "source": [
    "\n",
    "### **Python Exercise: Naive Bayes (Gaussian - Machine Predictive Maintenance Classification)**\n",
    "\n",
    "Gaussian Naive Bayes is ideal for predictive maintenance using continuous sensor readings like temperature, vibration levels, pressure, or RPM. For example, it learns that failing machines typically have vibration levels around 85±10 Hz and temperature around 95±5°C, while healthy machines show 45±8 Hz and 70±3°C, then classifies whether a machine needs maintenance based on where its current sensor readings fall within these distributions.\n",
    "\n",
    "The Example Below shows the Machine Predictive Maintenance Classification Dataset from Kaggle.\n",
    "\n",
    "#### **1) Dataset Information**\n",
    "\n",
    "##### **Machine Predictive Maintenance Classification Dataset**\n",
    "\n",
    "A synthetic dataset reflecting real industrial predictive maintenance scenarios with **10,000 data points** and **14 features**.\n",
    "\n",
    "| Feature | Description | Details |\n",
    "|---------|-------------|---------|\n",
    "| **UID** | Unique identifier | Range: 1 to 10,000 |\n",
    "| **Product ID** | Product quality variant + serial number | L (Low - 50%), M (Medium - 30%), H (High - 20%) |\n",
    "| **Air Temperature [K]** | Ambient temperature | Random walk, σ = 2K, centered at 300K |\n",
    "| **Process Temperature [K]** | Operating temperature | Air temp + 10K, σ = 1K |\n",
    "| **Rotational Speed [rpm]** | Shaft rotation speed | Calculated from 2860W power with noise |\n",
    "| **Torque [Nm]** | Applied torque | Normal distribution: μ = 40Nm, σ = 10Nm (no negatives) |\n",
    "| **Tool Wear [min]** | Cumulative tool usage | H/M/L variants add 5/3/2 minutes respectively |\n",
    "\n",
    "##### **Targets**\n",
    "\n",
    "| Target | Description |\n",
    "|--------|-------------|\n",
    "| **Target** | Binary: Failure or Not |\n",
    "| **Failure Type** | Categorical: Type of failure |\n",
    "\n",
    "**Critical Warning**: Both are targets so **do not use one as a feature** to avoid data leakage!\n",
    "\n",
    "**Data leakage** occurs when information from outside the training dataset (or from the target itself) is used to create the model, artificially inflating performance. The model appears highly accurate during training/testing but fails in real-world deployment because the leaked information isn't available when making actual predictions."
   ]
  },
  {
   "cell_type": "code",
   "execution_count": 23,
   "id": "0cde11c1",
   "metadata": {},
   "outputs": [
    {
     "name": "stdout",
     "output_type": "stream",
     "text": [
      "Dataset Shape: (10000, 10)\n",
      "Columns: ['UDI', 'Product ID', 'Type', 'Air temperature [K]', 'Process temperature [K]', 'Rotational speed [rpm]', 'Torque [Nm]', 'Tool wear [min]', 'Target', 'Failure Type']\n",
      "\n",
      "First 5 Rows of Data:\n",
      "   UDI Product ID Type  Air temperature [K]  Process temperature [K]  \\\n",
      "0    1     M14860    M                298.1                    308.6   \n",
      "1    2     L47181    L                298.2                    308.7   \n",
      "2    3     L47182    L                298.1                    308.5   \n",
      "3    4     L47183    L                298.2                    308.6   \n",
      "4    5     L47184    L                298.2                    308.7   \n",
      "\n",
      "   Rotational speed [rpm]  Torque [Nm]  Tool wear [min]  Target Failure Type  \n",
      "0                    1551         42.8                0       0   No Failure  \n",
      "1                    1408         46.3                3       0   No Failure  \n",
      "2                    1498         49.4                5       0   No Failure  \n",
      "3                    1433         39.5                7       0   No Failure  \n",
      "4                    1408         40.0                9       0   No Failure  \n"
     ]
    }
   ],
   "source": [
    "import pandas as pd\n",
    "import numpy as np\n",
    "import matplotlib.pyplot as plt\n",
    "import seaborn as sns\n",
    "import os\n",
    "\n",
    "import sklearn.preprocessing     # Preparing & Transforming Data before Training\n",
    "import sklearn.model_selection   # Splitting & Validating Dataset\n",
    "import sklearn.naive_bayes       # Naive Bayes Classification Algorithm\n",
    "import sklearn.metrics           # Evaluating Model Metrics\n",
    "\n",
    "# Load the Dataset Downloaded from Kaggle: Machine Predictive Maintenance Classification\n",
    "# Link: https://www.kaggle.com/datasets/shivamb/machine-predictive-maintenance-classification\n",
    "file_path = os.path.join(\"resources\",\"datasets\",\"predictive_maintenance.csv\")\n",
    "\n",
    "# Create Data Frame to Store the CSV Data\n",
    "pred_maint_df = pd.read_csv(file_path)\n",
    "\n",
    "# Print the Dataset Information\n",
    "print(f\"Dataset Shape: {pred_maint_df.shape}\")\n",
    "print(f\"Columns: {pred_maint_df.columns.to_list()}\")\n",
    "print(f\"\\nFirst 5 Rows of Data:\")\n",
    "print(pred_maint_df.head())\n"
   ]
  }
 ],
 "metadata": {
  "kernelspec": {
   "display_name": "CompScienceEnv",
   "language": "python",
   "name": "python3"
  },
  "language_info": {
   "codemirror_mode": {
    "name": "ipython",
    "version": 3
   },
   "file_extension": ".py",
   "mimetype": "text/x-python",
   "name": "python",
   "nbconvert_exporter": "python",
   "pygments_lexer": "ipython3",
   "version": "3.13.0"
  }
 },
 "nbformat": 4,
 "nbformat_minor": 5
}
