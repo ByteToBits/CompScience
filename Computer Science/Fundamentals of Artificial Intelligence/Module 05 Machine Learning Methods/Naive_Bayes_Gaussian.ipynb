{
 "cells": [
  {
   "cell_type": "markdown",
   "id": "aa5646a0",
   "metadata": {},
   "source": [
    "<h1 style=\"font-size: 1.6rem; font-weight: bold\">ITO 5047: Fundamentals of Artificial Intelligence</h1>\n",
    "<h1 style=\"font-size: 1.6rem; font-weight: bold\">Machine Learning Methods: Naïve Bayes (Gaussian Exercise)</h1>\n",
    "<p style=\"margin-top: 5px; margin-bottom: 5px;\">Monash University Australia</p>\n",
    "<p style=\"margin-top: 5px; margin-bottom: 5px;\">Jupyter Notebook by: Tristan Sim Yook Min</p>\n",
    "References: Information Source from Monash Faculty of Information Technology\n",
    "\n",
    "---"
   ]
  },
  {
   "cell_type": "markdown",
   "id": "e71ac1ab",
   "metadata": {},
   "source": [
    "\n",
    "### **Python Exercise: Naive Bayes (Gaussian - Machine Predictive Maintenance Classification)**\n",
    "\n",
    "Gaussian Naive Bayes is ideal for predictive maintenance using continuous sensor readings like temperature, vibration levels, pressure, or RPM. For example, it learns that failing machines typically have vibration levels around 85±10 Hz and temperature around 95±5°C, while healthy machines show 45±8 Hz and 70±3°C, then classifies whether a machine needs maintenance based on where its current sensor readings fall within these distributions.\n",
    "\n",
    "The Example Below shows the Machine Predictive Maintenance Classification Dataset from Kaggle.\n",
    "\n",
    "#### **1) Dataset Information**\n",
    "\n",
    "##### **Machine Predictive Maintenance Classification Dataset**\n",
    "\n",
    "A synthetic dataset reflecting real industrial predictive maintenance scenarios with **10,000 data points** and **14 features**.\n",
    "\n",
    "| Feature | Description | Details |\n",
    "|---------|-------------|---------|\n",
    "| **UID** | Unique identifier | Range: 1 to 10,000 |\n",
    "| **Product ID** | Product quality variant + serial number | L (Low - 50%), M (Medium - 30%), H (High - 20%) |\n",
    "| **Air Temperature [K]** | Ambient temperature | Random walk, σ = 2K, centered at 300K |\n",
    "| **Process Temperature [K]** | Operating temperature | Air temp + 10K, σ = 1K |\n",
    "| **Rotational Speed [rpm]** | Shaft rotation speed | Calculated from 2860W power with noise |\n",
    "| **Torque [Nm]** | Applied torque | Normal distribution: μ = 40Nm, σ = 10Nm (no negatives) |\n",
    "| **Tool Wear [min]** | Cumulative tool usage | H/M/L variants add 5/3/2 minutes respectively |\n",
    "\n",
    "##### **Targets**\n",
    "\n",
    "| Target | Description |\n",
    "|--------|-------------|\n",
    "| **Target** | Binary: Failure or Not |\n",
    "| **Failure Type** | Categorical: Type of failure |\n",
    "\n",
    "**Critical Warning**: Both are targets so **do not use one as a feature** to avoid data leakage!\n",
    "\n",
    "**Data leakage** occurs when information from outside the training dataset (or from the target itself) is used to create the model, artificially inflating performance. The model appears highly accurate during training/testing but fails in real-world deployment because the leaked information isn't available when making actual predictions."
   ]
  },
  {
   "cell_type": "code",
   "execution_count": 2,
   "id": "0cde11c1",
   "metadata": {},
   "outputs": [
    {
     "name": "stdout",
     "output_type": "stream",
     "text": [
      "Dataset Shape: (10000, 10)\n",
      "Columns: ['UDI', 'Product ID', 'Type', 'Air temperature [K]', 'Process temperature [K]', 'Rotational speed [rpm]', 'Torque [Nm]', 'Tool wear [min]', 'Target', 'Failure Type']\n",
      "\n",
      "First 5 Rows of Data:\n"
     ]
    },
    {
     "data": {
      "text/html": [
       "<div>\n",
       "<style scoped>\n",
       "    .dataframe tbody tr th:only-of-type {\n",
       "        vertical-align: middle;\n",
       "    }\n",
       "\n",
       "    .dataframe tbody tr th {\n",
       "        vertical-align: top;\n",
       "    }\n",
       "\n",
       "    .dataframe thead th {\n",
       "        text-align: right;\n",
       "    }\n",
       "</style>\n",
       "<table border=\"1\" class=\"dataframe\">\n",
       "  <thead>\n",
       "    <tr style=\"text-align: right;\">\n",
       "      <th></th>\n",
       "      <th>UDI</th>\n",
       "      <th>Product ID</th>\n",
       "      <th>Type</th>\n",
       "      <th>Air temperature [K]</th>\n",
       "      <th>Process temperature [K]</th>\n",
       "      <th>Rotational speed [rpm]</th>\n",
       "      <th>Torque [Nm]</th>\n",
       "      <th>Tool wear [min]</th>\n",
       "      <th>Target</th>\n",
       "      <th>Failure Type</th>\n",
       "    </tr>\n",
       "  </thead>\n",
       "  <tbody>\n",
       "    <tr>\n",
       "      <th>0</th>\n",
       "      <td>1</td>\n",
       "      <td>M14860</td>\n",
       "      <td>M</td>\n",
       "      <td>298.1</td>\n",
       "      <td>308.6</td>\n",
       "      <td>1551</td>\n",
       "      <td>42.8</td>\n",
       "      <td>0</td>\n",
       "      <td>0</td>\n",
       "      <td>No Failure</td>\n",
       "    </tr>\n",
       "    <tr>\n",
       "      <th>1</th>\n",
       "      <td>2</td>\n",
       "      <td>L47181</td>\n",
       "      <td>L</td>\n",
       "      <td>298.2</td>\n",
       "      <td>308.7</td>\n",
       "      <td>1408</td>\n",
       "      <td>46.3</td>\n",
       "      <td>3</td>\n",
       "      <td>0</td>\n",
       "      <td>No Failure</td>\n",
       "    </tr>\n",
       "    <tr>\n",
       "      <th>2</th>\n",
       "      <td>3</td>\n",
       "      <td>L47182</td>\n",
       "      <td>L</td>\n",
       "      <td>298.1</td>\n",
       "      <td>308.5</td>\n",
       "      <td>1498</td>\n",
       "      <td>49.4</td>\n",
       "      <td>5</td>\n",
       "      <td>0</td>\n",
       "      <td>No Failure</td>\n",
       "    </tr>\n",
       "    <tr>\n",
       "      <th>3</th>\n",
       "      <td>4</td>\n",
       "      <td>L47183</td>\n",
       "      <td>L</td>\n",
       "      <td>298.2</td>\n",
       "      <td>308.6</td>\n",
       "      <td>1433</td>\n",
       "      <td>39.5</td>\n",
       "      <td>7</td>\n",
       "      <td>0</td>\n",
       "      <td>No Failure</td>\n",
       "    </tr>\n",
       "    <tr>\n",
       "      <th>4</th>\n",
       "      <td>5</td>\n",
       "      <td>L47184</td>\n",
       "      <td>L</td>\n",
       "      <td>298.2</td>\n",
       "      <td>308.7</td>\n",
       "      <td>1408</td>\n",
       "      <td>40.0</td>\n",
       "      <td>9</td>\n",
       "      <td>0</td>\n",
       "      <td>No Failure</td>\n",
       "    </tr>\n",
       "  </tbody>\n",
       "</table>\n",
       "</div>"
      ],
      "text/plain": [
       "   UDI Product ID Type  Air temperature [K]  Process temperature [K]  \\\n",
       "0    1     M14860    M                298.1                    308.6   \n",
       "1    2     L47181    L                298.2                    308.7   \n",
       "2    3     L47182    L                298.1                    308.5   \n",
       "3    4     L47183    L                298.2                    308.6   \n",
       "4    5     L47184    L                298.2                    308.7   \n",
       "\n",
       "   Rotational speed [rpm]  Torque [Nm]  Tool wear [min]  Target Failure Type  \n",
       "0                    1551         42.8                0       0   No Failure  \n",
       "1                    1408         46.3                3       0   No Failure  \n",
       "2                    1498         49.4                5       0   No Failure  \n",
       "3                    1433         39.5                7       0   No Failure  \n",
       "4                    1408         40.0                9       0   No Failure  "
      ]
     },
     "metadata": {},
     "output_type": "display_data"
    },
    {
     "name": "stdout",
     "output_type": "stream",
     "text": [
      "\n",
      "Total Number of Records: 10000\n"
     ]
    }
   ],
   "source": [
    "import pandas as pd\n",
    "import numpy as np\n",
    "import matplotlib.pyplot as plt\n",
    "import seaborn as sns\n",
    "import os\n",
    "\n",
    "import sklearn.preprocessing     # Preparing & Transforming Data before Training\n",
    "import sklearn.model_selection   # Splitting & Validating Dataset\n",
    "import sklearn.naive_bayes       # Naive Bayes Classification Algorithm\n",
    "import sklearn.metrics           # Evaluating Model Metrics\n",
    "\n",
    "# Load the Dataset Downloaded from Kaggle: Machine Predictive Maintenance Classification\n",
    "# Link: https://www.kaggle.com/datasets/shivamb/machine-predictive-maintenance-classification\n",
    "file_path = os.path.join(\"resources\",\"datasets\",\"predictive_maintenance.csv\")\n",
    "\n",
    "# Create Data Frame to Store the CSV Data\n",
    "pred_maint_df = pd.read_csv(file_path)\n",
    "\n",
    "# Print the Dataset Information\n",
    "print(f\"Dataset Shape: {pred_maint_df.shape}\")\n",
    "print(f\"Columns: {pred_maint_df.columns.to_list()}\")\n",
    "print(f\"\\nFirst 5 Rows of Data:\")\n",
    "display(pred_maint_df.head())\n",
    "\n",
    "# Data Set Information\n",
    "total_num_of_data = len(pred_maint_df)\n",
    "print(f\"\\nTotal Number of Records: {total_num_of_data}\")"
   ]
  },
  {
   "cell_type": "markdown",
   "id": "eba298ff",
   "metadata": {},
   "source": [
    "#### **2) Explore the Dataset**"
   ]
  },
  {
   "cell_type": "code",
   "execution_count": 14,
   "id": "0eb4c459",
   "metadata": {},
   "outputs": [
    {
     "name": "stdout",
     "output_type": "stream",
     "text": [
      "Target Distribution (Binary Failure):\n"
     ]
    },
    {
     "data": {
      "image/png": "[encoded data removed]",
      "text/plain": [
       "<Figure size 1400x500 with 2 Axes>"
      ]
     },
     "metadata": {},
     "output_type": "display_data"
    }
   ],
   "source": [
    "# Target Distribution (Count the Number of '0' - No Failures and '1' - Failures)\n",
    "print(\"Target Distribution (Binary Failure):\")\n",
    "target_distribution_df = pred_maint_df['Target'].value_counts()\n",
    "failure_type_distribution = pred_maint_df['Failure Type'].value_counts()\n",
    "failure_rate = pred_maint_df['Target'].mean() * 100\n",
    "\n",
    "# Create a Plot\n",
    "figure, axes = plt.subplots(1, 2, figsize = (14, 5))\n",
    "\n",
    "# Binary Target Distribution Plot\n",
    "axes[0].bar(['No Failure', 'Failure'], target_distribution_df.values, color = ['green', 'red'], alpha = 0.7)\n",
    "axes[0].set_title('Binary Target Distribution', fontsize=14, fontweight='bold')\n",
    "axes[0].set_ylabel('Count')\n",
    "axes[0].grid(axis='y', alpha=0.3)\n",
    "for i, j in enumerate(target_distribution_df.values):\n",
    "    axes[0].text(i, j + 50, str(j), ha='center', fontweight='bold')\n",
    "\n",
    "# Failure Types Distribuion Plot\n",
    "axes[1].barh(failure_type_distribution.index, failure_type_distribution.values, color='blue')\n",
    "axes[1].set_title('Failure Type Distribution', fontsize=14, fontweight='bold')\n",
    "axes[1].set_xlabel('Count')\n",
    "axes[1].grid(axis='x', alpha=0.3)\n",
    "for i, j in enumerate(failure_type_distribution.values):\n",
    "    axes[1].text(j + 20, i, str(j), va='center', fontweight='bold')\n",
    "\n",
    "plt.tight_layout()\n",
    "plt.show()"
   ]
  }
 ],
 "metadata": {
  "kernelspec": {
   "display_name": "CompScienceEnv",
   "language": "python",
   "name": "python3"
  },
  "language_info": {
   "codemirror_mode": {
    "name": "ipython",
    "version": 3
   },
   "file_extension": ".py",
   "mimetype": "text/x-python",
   "name": "python",
   "nbconvert_exporter": "python",
   "pygments_lexer": "ipython3",
   "version": "3.13.0"
  }
 },
 "nbformat": 4,
 "nbformat_minor": 5
}
