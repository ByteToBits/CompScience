{
 "cells": [
  {
   "cell_type": "markdown",
   "id": "8ddea45f",
   "metadata": {},
   "source": [
    "<h1 style=\"font-size: 1.6rem; font-weight: bold\">Module 4 - Topic 4: Vector Operations</h1>\n",
    "<p style=\"margin-top: 5px; margin-bottom: 5px;\">Monash University Australia</p>\n",
    "<p style=\"margin-top: 5px; margin-bottom: 5px;\">ITO 4001: Foundations of Computing</p>\n",
    "<p style=\"margin-top: 5px; margin-bottom: 5px;\">Jupyter Notebook by: Tristan Sim Yook Min</p>\n",
    "References: Monash University & Howard Anton and Chris Rorres, Elementary Linear Algebra, 11th edition; Larry E. Knop, 2009\n",
    "\n",
    "---"
   ]
  },
  {
   "cell_type": "markdown",
   "id": "0a0d6b04",
   "metadata": {},
   "source": [
    "### **Introduction to Vector Spaces**\n",
    "\n",
    "A **vector space** is a collection of vectors in the same dimensional space together with linear operations, specifically scalar multiplication and vector addition. It encompasses not just a collection of objects, but also the operations that can be performed on these objects.\n",
    "\n",
    "**Key Constraints**\n",
    "- Vector addition $\\mathbf{u} + \\mathbf{v}$ is only defined if both $\\mathbf{u}$ and $\\mathbf{v}$ are from the same dimensional space\n",
    "- Both vectors must have the same number of components\n",
    "- Scalar multiplication is defined, but scalar addition to a vector is **not defined**\n",
    "\n",
    "**Examples of Undefined Operations**\n",
    "- Adding integer 5 to vector $[1,2,3]$: **Not defined** (5 has no components, $[1,2,3]$ has three)\n",
    "- Adding integer 5 to vector $[2]$: **Not defined** (5 is a scalar, $[2]$ is a vector)"
   ]
  },
  {
   "cell_type": "markdown",
   "id": "bedbaed3",
   "metadata": {},
   "source": [
    "---"
   ]
  },
  {
   "cell_type": "markdown",
   "id": "a68ca235",
   "metadata": {},
   "source": [
    "### **Vector Dot Product**\n",
    "\n",
    "#### **Definition**\n",
    "\n",
    "Let $\\mathbf{u} = [u_1, u_2, \\ldots, u_n]$ and $\\mathbf{v} = [v_1, v_2, \\ldots, v_n]$ be two vectors from $n$-dimensional space with orthogonal components.\n",
    "\n",
    "$$\\mathbf{u} \\cdot \\mathbf{v} = |\\mathbf{u}||\\mathbf{v}|\\cos(\\theta)$$\n",
    "\n",
    "where:\n",
    "- $|\\mathbf{u}|$ is the magnitude of $\\mathbf{u}$\n",
    "- $|\\mathbf{v}|$ is the magnitude of $\\mathbf{v}$\n",
    "- $\\theta$ is the angle between $\\mathbf{u}$ and $\\mathbf{v}$\n",
    "\n",
    "#### **Properties of Dot Product**\n",
    "\n",
    "1. $\\mathbf{u} \\cdot \\mathbf{u} = |\\mathbf{u}|^2 \\geq 0$\n",
    "2. $\\mathbf{u} \\cdot \\mathbf{u} = 0$ if and only if $\\mathbf{u} = \\mathbf{0}$\n",
    "3. $\\mathbf{u} \\cdot \\mathbf{v} = \\mathbf{v} \\cdot \\mathbf{u}$ (Commutative)\n",
    "4. $c(\\mathbf{u} \\cdot \\mathbf{v}) = (c\\mathbf{u}) \\cdot \\mathbf{v} = \\mathbf{u} \\cdot (c\\mathbf{v})$ (Scalar associativity)\n",
    "5. $\\mathbf{u} \\cdot (\\mathbf{v} + \\mathbf{w}) = (\\mathbf{u} \\cdot \\mathbf{v}) + (\\mathbf{u} \\cdot \\mathbf{w})$ (Distributive)\n",
    "6. $(\\mathbf{u} + \\mathbf{v}) \\cdot \\mathbf{w} = (\\mathbf{u} \\cdot \\mathbf{w}) + (\\mathbf{v} \\cdot \\mathbf{w})$ (Distributive)\n",
    "7. **Component Formula**: If $\\mathbf{u} = [u_1, u_2, \\ldots, u_n]$ and $\\mathbf{v} = [v_1, v_2, \\ldots, v_n]$, then:\n",
    "   $$\\mathbf{u} \\cdot \\mathbf{v} = u_1v_1 + u_2v_2 + \\cdots + u_nv_n$$\n",
    "\n",
    "**Note**: Property 7 provides the **inner product** formula and is often used as an alternative definition due to its computational simplicity and extensibility to higher dimensions."
   ]
  },
  {
   "cell_type": "markdown",
   "id": "26884397",
   "metadata": {},
   "source": [
    "---"
   ]
  },
  {
   "cell_type": "markdown",
   "id": "12458aa1",
   "metadata": {},
   "source": [
    "### **Vector Cross Product**\n",
    "\n",
    "#### **Definition (3D Only)**\n",
    "\n",
    "The vector cross product is applicable only to vectors in 3-dimensional space with orthogonal components (e.g., Cartesian $x$-$y$-$z$ system).\n",
    "\n",
    "For vectors $\\mathbf{a} = [a_1, a_2, a_3]$ and $\\mathbf{b} = [b_1, b_2, b_3]$:\n",
    "\n",
    "$$\\mathbf{a} \\times \\mathbf{b} = |\\mathbf{a}||\\mathbf{b}|\\sin(\\theta)\\hat{\\mathbf{n}}$$\n",
    "\n",
    "where $\\hat{\\mathbf{n}}$ is a unit vector perpendicular to both $\\mathbf{a}$ and $\\mathbf{b}$, following the **right-hand rule**.\n",
    "\n",
    "#### **Component Formula**\n",
    "\n",
    "$$\\mathbf{a} \\times \\mathbf{b} = [a_2b_3 - a_3b_2, a_3b_1 - a_1b_3, a_1b_2 - a_2b_1]$$\n",
    "\n",
    "#### **Determinant Form**\n",
    "\n",
    "$$\\mathbf{a} \\times \\mathbf{b} = \\begin{vmatrix}\n",
    "\\mathbf{i} & \\mathbf{j} & \\mathbf{k} \\\\\n",
    "a_1 & a_2 & a_3 \\\\\n",
    "b_1 & b_2 & b_3\n",
    "\\end{vmatrix}$$\n",
    "\n",
    "where $\\mathbf{i}$, $\\mathbf{j}$, and $\\mathbf{k}$ are unit vectors along the $x$, $y$, and $z$ axes respectively.\n",
    "\n",
    "#### **Geometric Interpretation**\n",
    "\n",
    "- The result is a vector **perpendicular** to both original vectors\n",
    "- The **magnitude** equals the area of the parallelogram spanned by the original vectors\n",
    "\n",
    "#### **Properties of Cross Product**\n",
    "\n",
    "For vectors $\\mathbf{u}$, $\\mathbf{v}$, $\\mathbf{w}$ in 3D space and scalar $k$:\n",
    "\n",
    "1. $\\mathbf{u} \\times \\mathbf{v} = -(\\mathbf{v} \\times \\mathbf{u})$ (Anti-commutative)\n",
    "2. $\\mathbf{u} \\times (\\mathbf{v} + \\mathbf{w}) = (\\mathbf{u} \\times \\mathbf{v}) + (\\mathbf{u} \\times \\mathbf{w})$ (Left distributive)\n",
    "3. $(\\mathbf{u} + \\mathbf{v}) \\times \\mathbf{w} = (\\mathbf{u} \\times \\mathbf{w}) + (\\mathbf{v} \\times \\mathbf{w})$ (Right distributive)\n",
    "4. $k(\\mathbf{u} \\times \\mathbf{v}) = (k\\mathbf{u}) \\times \\mathbf{v} = \\mathbf{u} \\times (k\\mathbf{v})$ (Scalar associativity)\n",
    "5. $\\mathbf{u} \\times \\mathbf{0} = \\mathbf{0} \\times \\mathbf{u} = \\mathbf{0}$ (Zero vector)\n",
    "6. $\\mathbf{u} \\times \\mathbf{u} = \\mathbf{0}$ (Self cross product)\n",
    "\n",
    "#### **Unit Vector Cross Products**\n",
    "\n",
    "For standard unit vectors $\\mathbf{i}$, $\\mathbf{j}$, $\\mathbf{k}$:\n",
    "\n",
    "| Operation | Result | Operation | Result |\n",
    "|-----------|---------|-----------|---------|\n",
    "| $\\mathbf{i} \\times \\mathbf{i}$ | $\\mathbf{0}$ | $\\mathbf{i} \\times \\mathbf{j}$ | $\\mathbf{k}$ |\n",
    "| $\\mathbf{j} \\times \\mathbf{j}$ | $\\mathbf{0}$ | $\\mathbf{j} \\times \\mathbf{k}$ | $\\mathbf{i}$ |\n",
    "| $\\mathbf{k} \\times \\mathbf{k}$ | $\\mathbf{0}$ | $\\mathbf{k} \\times \\mathbf{i}$ | $\\mathbf{j}$ |\n",
    "| $\\mathbf{j} \\times \\mathbf{i}$ | $-\\mathbf{k}$ | $\\mathbf{k} \\times \\mathbf{j}$ | $-\\mathbf{i}$ |\n",
    "| $\\mathbf{i} \\times \\mathbf{k}$ | $-\\mathbf{j}$ |  |  |"
   ]
  },
  {
   "cell_type": "markdown",
   "id": "cca5079d",
   "metadata": {},
   "source": [
    "---"
   ]
  },
  {
   "cell_type": "markdown",
   "id": "cf727fc7",
   "metadata": {},
   "source": [
    "### **Scalar Triple Product**\n",
    "\n",
    "#### **Definition**\n",
    "For three vectors $\\mathbf{u} = [u_1, u_2, u_3]$, $\\mathbf{v} = [v_1, v_2, v_3]$, and $\\mathbf{w} = [w_1, w_2, w_3]$ in 3D space:\n",
    "\n",
    "$$\\text{Scalar Triple Product} = \\mathbf{u} \\cdot (\\mathbf{v} \\times \\mathbf{w})$$\n",
    "\n",
    "#### **Geometric Interpretation**\n",
    "The scalar triple product represents the **volume of the parallelepiped** spanned by vectors $\\mathbf{u}$, $\\mathbf{v}$, and $\\mathbf{w}$.\n",
    "\n",
    "#### **Determinant Form**\n",
    "$$\\mathbf{u} \\cdot (\\mathbf{v} \\times \\mathbf{w}) = \\begin{vmatrix}\n",
    "u_1 & u_2 & u_3 \\\\\n",
    "v_1 & v_2 & v_3 \\\\\n",
    "w_1 & w_2 & w_3\n",
    "\\end{vmatrix}$$\n",
    "\n",
    "#### **Cyclic Property**\n",
    "$\\mathbf{u} \\cdot (\\mathbf{v} \\times \\mathbf{w}) = \\mathbf{v} \\cdot (\\mathbf{w} \\times \\mathbf{u}) = \\mathbf{w} \\cdot (\\mathbf{u} \\times \\mathbf{v})$\n",
    "\n",
    "#### **This is because:**\n",
    "\n",
    "$\\begin{vmatrix}\n",
    "u_1 & u_2 & u_3 \\\\\n",
    "v_1 & v_2 & v_3 \\\\\n",
    "w_1 & w_2 & w_3\n",
    "\\end{vmatrix} = \\begin{vmatrix}\n",
    "v_1 & v_2 & v_3 \\\\\n",
    "w_1 & w_2 & w_3 \\\\\n",
    "u_1 & u_2 & u_3\n",
    "\\end{vmatrix} = \\begin{vmatrix}\n",
    "w_1 & w_2 & w_3 \\\\\n",
    "u_1 & u_2 & u_3 \\\\\n",
    "v_1 & v_2 & v_3\n",
    "\\end{vmatrix}$\n",
    "\n",
    "This cyclic property arises from the invariance of the determinant under cyclic permutations of its rows. Each cyclic permutation (moving the first row to the bottom) preserves the determinant's value, which explains why all three scalar triple products are equal."
   ]
  },
  {
   "cell_type": "markdown",
   "id": "c0b20264",
   "metadata": {},
   "source": [
    "---"
   ]
  }
 ],
 "metadata": {
  "kernelspec": {
   "display_name": "venv-pyCompute",
   "language": "python",
   "name": "python3"
  },
  "language_info": {
   "codemirror_mode": {
    "name": "ipython",
    "version": 3
   },
   "file_extension": ".py",
   "mimetype": "text/x-python",
   "name": "python",
   "nbconvert_exporter": "python",
   "pygments_lexer": "ipython3",
   "version": "3.13.0"
  }
 },
 "nbformat": 4,
 "nbformat_minor": 5
}
