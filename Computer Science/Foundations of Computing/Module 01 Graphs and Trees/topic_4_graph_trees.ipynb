{
 "cells": [
  {
   "cell_type": "markdown",
   "id": "aa5a5edd",
   "metadata": {},
   "source": [
    "<h1 style=\"font-size: 1.8rem; font-weight: bold\">Module 1 - Topic 4: Introduction to Trees</h1>\n",
    "<p style=\"margin-top: 5px; margin-bottom: 5px;\">Monash University Australia</p>\n",
    "<p style=\"margin-top: 5px; margin-bottom: 5px;\">ITO 4001: Foundations of Computing</p>\n",
    "<p style=\"margin-top: 5px; margin-bottom: 5px;\">Jupyter Notebook by: Tristan Sim Yook Min</p>\n",
    "\n",
    "---"
   ]
  },
  {
   "cell_type": "markdown",
   "id": "ba65751a",
   "metadata": {},
   "source": [
    "### **Tree Data Strucutre**\n",
    "\n",
    "Trees are a type of **Abstract Data Structure** which uses a connected graph and has no cycles. Trees are extremely useful to model many things in a natural way, for example, a family tree, orgranisation structure charts, routing data for network traffic and data compression.\n",
    "\n",
    "#### **Basic Terminology**\n"
   ]
  }
 ],
 "metadata": {
  "language_info": {
   "name": "python"
  }
 },
 "nbformat": 4,
 "nbformat_minor": 5
}
