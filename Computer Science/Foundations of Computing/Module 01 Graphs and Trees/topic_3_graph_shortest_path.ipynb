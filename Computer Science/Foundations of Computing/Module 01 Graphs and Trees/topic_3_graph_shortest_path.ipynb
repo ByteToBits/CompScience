{
 "cells": [
  {
   "cell_type": "markdown",
   "id": "aa5a5edd",
   "metadata": {},
   "source": [
    "<h1 style=\"font-size: 1.8rem; font-weight: bold\">Module 1 - Topic 3: Dijkstra's Shortest Path Algorithm</h1>\n",
    "<p style=\"margin-top: 5px; margin-bottom: 5px;\">Monash University Australia</p>\n",
    "<p style=\"margin-top: 5px; margin-bottom: 5px;\">ITO 4001: Foundations of Computing</p>\n",
    "<p style=\"margin-top: 5px; margin-bottom: 5px;\">Jupyter Notebook by: Tristan Sim Yook Min</p>\n",
    "\n",
    "---"
   ]
  },
  {
   "cell_type": "markdown",
   "id": "4c47a0f3",
   "metadata": {},
   "source": [
    "### **Dijkstra's Shortest Path Alogrithm**\n",
    "\n",
    "Dijkstra's Shortest Path Algorithm is a Single Source Shortest Path Alogrithm used to find the Shortest Path to a destination node in a graph. The Edges of the Graph must have non-negative weights. One common application using Dijkstra Algorithm are for example network routing protocals like Open-Shortest Path First (OSPF) to find the best routes between routers. \n",
    "\n",
    "\n",
    "#### **Time Complexity**\n",
    "The time complexity is $O(E log V)$ when implemented with a binary heap priority queue, where:\n",
    "- **E** is the number of edges\n",
    "- **V** is the number of vertices\n",
    "\n",
    "With a Fibonacci heap implementation, the time complexity can be improved to $O(E + V log V)$.\n",
    "\n",
    "#### **Space Complexity**\n",
    "The space complexity is **O(V)** to store the distance array and the priority queue.\n",
    "\n",
    "#### **Constraints of Use**\n",
    "- **Non-negative edge weights only**: The algorithm assumes that once a node is visited, its shortest distance cannot be improved further. This assumption fails with negative weights.\n",
    "- Not suitable for graphs with negative edge weights (use Bellman-Ford algorithm instead)\n",
    "- Not designed to handle negative cycles (where the total edge weight in a cycle is negative)\n",
    "\n",
    "\n",
    "#### **Algorithm Overview**\n",
    "\n",
    "1. **Initialization**:\n",
    "   - Create a `distance` array and set all values to infinity except the start node, which is set to 0\n",
    "   - Create a `visited` array/set to keep track of processed nodes\n",
    "   - Create a priority queue and insert the start node with distance 0\n",
    "\n",
    "2. **Main Loop**:\n",
    "   - While the priority queue is not empty:\n",
    "     - Extract the node with the minimum distance (highest priority)\n",
    "     - If the node has already been visited, skip it\n",
    "     - Mark the node as visited\n",
    "     - For each neighbor of the current node:\n",
    "       - Calculate potential new distance = current node's distance + edge weight\n",
    "       - If the new distance is less than the neighbor's current distance:\n",
    "         - Update the neighbor's distance\n",
    "         - Add or update the neighbor in the priority queue with the new distance\n",
    "\n",
    "3. **Edge Relaxation**:\n",
    "   - The process of updating a node's distance when a shorter path is found is called \"relaxation\"\n",
    "   - For each edge (u, v) with weight w, if distance[u] + w < distance[v], then distance[v] = distance[u] + w\n",
    "\n",
    "#### **Optimizations**\n",
    "- **Early termination**: If you only need the shortest path to a specific target node, you can stop the algorithm once that node is processed\n",
    "- **Bidirectional search**: When source and target are known, search can be performed from both ends simultaneously\n",
    "- **A* algorithm**: An extension of Dijkstra's that uses heuristics to guide the search more efficiently toward the target\n",
    "\n",
    "#### **Key Differences from Other Shortest Path Algorithms**\n",
    "\n",
    "| Algorithm | Handles Negative Edges | Time Complexity | Single-Source or All-Pairs |\n",
    "|-----------|------------------------|-----------------|----------------------------|\n",
    "| Dijkstra  | No                     | O(E log V)      | Single-Source             |\n",
    "| Bellman-Ford | Yes                 | O(V*E)          | Single-Source             |\n",
    "| Floyd-Warshall | Yes               | O(V³)           | All-Pairs                 |\n"
   ]
  },
  {
   "cell_type": "markdown",
   "id": "2499ff6a",
   "metadata": {},
   "source": [
    "### **Lazy Dijkstra's Algorithm Implementation**"
   ]
  },
  {
   "cell_type": "markdown",
   "id": "4e4cf0c0",
   "metadata": {},
   "source": []
  }
 ],
 "metadata": {
  "language_info": {
   "name": "python"
  }
 },
 "nbformat": 4,
 "nbformat_minor": 5
}
