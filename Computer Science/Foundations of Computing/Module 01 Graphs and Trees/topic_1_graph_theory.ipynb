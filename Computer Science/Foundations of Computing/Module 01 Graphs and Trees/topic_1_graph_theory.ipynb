{
 "cells": [
  {
   "cell_type": "markdown",
   "id": "3057a73a",
   "metadata": {},
   "source": [
    "<h1 style=\"font-size: 1.8rem;\">Module 1 - Topic 1: Graph Theory</h1>\n",
    "<p style=\"margin-top: 5px; margin-bottom: 5px;\">Monash University Australia</p>\n",
    "<p style=\"margin-top: 5px; margin-bottom: 5px;\">ITO 4001: Foundations of Computing</p>\n",
    "\n",
    "---"
   ]
  },
  {
   "cell_type": "markdown",
   "id": "1d0be9c7",
   "metadata": {},
   "source": [
    "<h2 style=\"font-size: 1.5rem;\">Definition</h2>\n",
    "\n",
    "Graph Theory is a mathematical structure used to model pairwise relations between objects using varios methods like Matrices. A Graph $G$ is mathematically represented as $G = (V, E)$ and is defined as a set of Vertices $(V)$ and a set of Edges $(E)$. It is simply a collection of points (vertices or nodes) connected by lines (called edges). Graphs can also be used to visualize and analyze relationships and can also be used to represent a map where buildings are nodes and streets are edges.\n",
    " \n",
    "---"
   ]
  },
  {
   "cell_type": "markdown",
   "id": "3c479a3f",
   "metadata": {},
   "source": [
    "### Graphs Formal Notation\n",
    "\n",
    "A Graph $G$ is mathematically represented as $G = (V, E)$ and is defined as a set of Vertices $(V)$ and a set of Edges $(E)$.\n",
    "\n",
    "For undirected graphs: $E \\subseteq \\{\\{u, v\\} \\mid u, v \\in V\\}$, where edges are unordered pairs. $\\{u, v\\} = \\{v, u\\}$ because there is no sense of direction.\n",
    "\n",
    "For directed graphs: $E \\subseteq \\{(u, v) \\mid u, v \\in V\\}$, where edges are ordered pairs.\n",
    "\n",
    "\n",
    "Where:\n",
    "- $G$ represents the Graph\n",
    "- $V$ is the set of Vertices\n",
    "- $u, v$ are individual Vertices in $V$\n",
    "- $E$ is the set of Edges\n",
    "- $\\in$ means \"is an element of\"\n",
    "- $\\subseteq$ means \"is a subset of\"\n",
    " \n",
    "--- "
   ]
  },
  {
   "cell_type": "markdown",
   "id": "1139f9b8",
   "metadata": {},
   "source": []
  }
 ],
 "metadata": {
  "language_info": {
   "name": "python"
  }
 },
 "nbformat": 4,
 "nbformat_minor": 5
}
