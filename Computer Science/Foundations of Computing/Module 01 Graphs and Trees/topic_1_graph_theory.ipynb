{
 "cells": [
  {
   "cell_type": "markdown",
   "id": "3057a73a",
   "metadata": {},
   "source": [
    "<h1 style=\"font-size: 1.8rem;\">Module 1 - Topic 1: Graph Theory</h1>\n",
    "<p style=\"margin-top: 5px; margin-bottom: 5px;\">Monash University Australia</p>\n",
    "<p style=\"margin-top: 5px; margin-bottom: 5px;\">ITO 4001: Foundations of Computing</p>\n",
    "\n",
    "---"
   ]
  }
 ],
 "metadata": {
  "language_info": {
   "name": "python"
  }
 },
 "nbformat": 4,
 "nbformat_minor": 5
}
