{
 "cells": [
  {
   "cell_type": "markdown",
   "id": "3057a73a",
   "metadata": {},
   "source": [
    "<h1 style=\"font-size: 1.8rem;\">Module 1 - Topic 1: Graph Theory</h1>\n",
    "<p style=\"margin-top: 5px; margin-bottom: 5px;\">Monash University Australia</p>\n",
    "<p style=\"margin-top: 5px; margin-bottom: 5px;\">ITO 4001: Foundations of Computing</p>\n",
    "\n",
    "---"
   ]
  },
  {
   "cell_type": "markdown",
   "id": "1d0be9c7",
   "metadata": {},
   "source": [
    "Place Holder"
   ]
  },
  {
   "cell_type": "markdown",
   "id": "3c479a3f",
   "metadata": {},
   "source": [
    "test<h2 style=\"font-size: 1.3rem;\">Graphs Formal Notation</h2>\n",
    "\n",
    "A Graph $G$ is represented as $G = (V, E)$ and is defined as a set of Vertices $(V)$ and a set of Edges $(E)$.\n",
    "\n",
    "An Edge $(E)$ is represented as $E \\subseteq V \\times V$\n",
    "\n",
    "Where:\n",
    "- $G$ represents the graph\n",
    "- $V$ is the set of vertices\n",
    "- $E$ is the set of edges\n",
    "- $\\times$ denotes the Cartesian product\n",
    "- $\\subseteq$ means \"is a subset of\""
   ]
  }
 ],
 "metadata": {
  "language_info": {
   "name": "python"
  }
 },
 "nbformat": 4,
 "nbformat_minor": 5
}
