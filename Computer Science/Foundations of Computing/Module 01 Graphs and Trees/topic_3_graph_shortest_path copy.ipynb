{
 "cells": [
  {
   "cell_type": "markdown",
   "id": "aa5a5edd",
   "metadata": {},
   "source": [
    "<h1 style=\"font-size: 1.8rem; font-weight: bold\">Module 1 - Topic 3: Shortest Path using Dijkstra Algorithm</h1>\n",
    "<p style=\"margin-top: 5px; margin-bottom: 5px;\">Monash University Australia</p>\n",
    "<p style=\"margin-top: 5px; margin-bottom: 5px;\">ITO 4001: Foundations of Computing</p>\n",
    "<p style=\"margin-top: 5px; margin-bottom: 5px;\">Jupyter Notebook by: Tristan Sim Yook Min</p>\n",
    "\n",
    "---"
   ]
  }
 ],
 "metadata": {
  "language_info": {
   "name": "python"
  }
 },
 "nbformat": 4,
 "nbformat_minor": 5
}
