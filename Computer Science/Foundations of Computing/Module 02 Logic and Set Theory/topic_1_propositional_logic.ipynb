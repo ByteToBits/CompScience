{
 "cells": [
  {
   "cell_type": "markdown",
   "id": "3fe9ebf2",
   "metadata": {},
   "source": [
    "<h1 style=\"font-size: 1.8rem; font-weight: bold\">Module 2 - Topic 1: Propositional Logic</h1>\n",
    "<p style=\"margin-top: 5px; margin-bottom: 5px;\">Monash University Australia</p>\n",
    "<p style=\"margin-top: 5px; margin-bottom: 5px;\">ITO 4001: Foundations of Computing</p>\n",
    "<p style=\"margin-top: 5px; margin-bottom: 5px;\">Jupyter Notebook by: Tristan Sim Yook Min</p>\n",
    "\n",
    "---"
   ]
  },
  {
   "cell_type": "markdown",
   "id": "ae32e005",
   "metadata": {},
   "source": [
    "### **Propositional Logic**\n",
    "\n",
    "A proposition is a declarative statement that can be **Either True or False, but Not Both**. Below are Examples of a proposition: \n",
    "\n",
    "| Case | Value |\n",
    "|------|-------|\n",
    "| 29 is a Prime Number | True |\n",
    "| 10 Smaller than -10 | False |\n",
    "| 8 is an Odd Number | False |\n",
    "| A Pentagon has 5 Edges and 5 Vertices | True |\n",
    "\n",
    "#### **Propositional Statement Connectives**\n",
    "\n",
    "The Prroposition can be extended to include more complex declarative statements using Connectives to solve more complex conditional problems. The table below shows some of the connectives: \n",
    "\n",
    "| Case | Value | Example |\n",
    "|------|-------|\n"
   ]
  },
  {
   "cell_type": "markdown",
   "id": "743a8b35",
   "metadata": {},
   "source": []
  }
 ],
 "metadata": {
  "language_info": {
   "name": "python"
  }
 },
 "nbformat": 4,
 "nbformat_minor": 5
}
