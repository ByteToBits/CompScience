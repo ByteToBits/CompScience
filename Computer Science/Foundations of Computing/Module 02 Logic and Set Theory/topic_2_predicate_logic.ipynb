{
 "cells": [
  {
   "cell_type": "markdown",
   "id": "c7f9587d",
   "metadata": {},
   "source": [
    "<h1 style=\"font-size: 1.8rem; font-weight: bold\">Module 2 - Topic 2: Predicate Logic</h1>\n",
    "<p style=\"margin-top: 5px; margin-bottom: 5px;\">Monash University Australia</p>\n",
    "<p style=\"margin-top: 5px; margin-bottom: 5px;\">ITO 4001: Foundations of Computing</p>\n",
    "<p style=\"margin-top: 5px; margin-bottom: 5px;\">Jupyter Notebook by: Tristan Sim Yook Min</p>\n",
    "\n",
    "---"
   ]
  }
 ],
 "metadata": {
  "language_info": {
   "name": "python"
  }
 },
 "nbformat": 4,
 "nbformat_minor": 5
}
