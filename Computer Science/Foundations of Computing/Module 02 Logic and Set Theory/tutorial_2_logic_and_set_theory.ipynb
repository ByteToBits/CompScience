{
 "cells": [
  {
   "cell_type": "markdown",
   "id": "f236befb",
   "metadata": {},
   "source": [
    "<h1 style=\"font-size: 1.7rem; font-weight: bold\">Module 2 - Tutorial 1: Set Theory</h1>\n",
    "<p style=\"margin-top: 5px; margin-bottom: 5px;\">Monash University Australia</p>\n",
    "<p style=\"margin-top: 5px; margin-bottom: 5px;\">ITO 4001: Foundations of Computing</p>\n",
    "<p style=\"margin-top: 5px; margin-bottom: 5px;\">Jupyter Notebook by: Tristan Sim Yook Min</p>"
   ]
  },
  {
   "cell_type": "markdown",
   "id": "1638dc2d",
   "metadata": {},
   "source": [
    "---"
   ]
  }
 ],
 "metadata": {
  "language_info": {
   "name": "python"
  }
 },
 "nbformat": 4,
 "nbformat_minor": 5
}
