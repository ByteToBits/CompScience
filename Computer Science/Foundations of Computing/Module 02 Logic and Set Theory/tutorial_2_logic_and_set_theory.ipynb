{
 "cells": [
  {
   "cell_type": "markdown",
   "id": "f236befb",
   "metadata": {},
   "source": [
    "<h1 style=\"font-size: 1.7rem; font-weight: bold\">Module 2 - Tutorial 1: Set Theory</h1>\n",
    "<p style=\"margin-top: 5px; margin-bottom: 5px;\">Monash University Australia</p>\n",
    "<p style=\"margin-top: 5px; margin-bottom: 5px;\">ITO 4001: Foundations of Computing</p>\n",
    "<p style=\"margin-top: 5px; margin-bottom: 5px;\">Jupyter Notebook by: Tristan Sim Yook Min</p>"
   ]
  },
  {
   "cell_type": "markdown",
   "id": "1638dc2d",
   "metadata": {},
   "source": [
    "---"
   ]
  },
  {
   "cell_type": "markdown",
   "id": "309f183d",
   "metadata": {},
   "source": [
    "**Q1) What is the conjunctive normal form of the following? (A → B) ∧ (B → A)**\n",
    "\n",
    "\n",
    "\n",
    "\n",
    "**Q2) Find the negation of the following statement:**\n",
    "<br>\n",
    "\n",
    "- **If all rich people are happy, then all poor people are sad.**\n",
    "\n",
    "\n",
    "\n",
    "\n",
    "**Q3) Write a corresponding predicate sentence of the following English sentences:**\n",
    "\n",
    "- **There are exactly two coins in the box**\n",
    "- **All students get good grades if they study**\n",
    "\n",
    "\n",
    "\n",
    "**Q4) If $A = {0, 1}$ what is $A X ℕ?$**\n",
    "\n",
    "\n",
    "\n",
    "**Q5) Using a Venn diagram, find whether the following is correct: $\\overline{A \\cap B} = \\overline{A} \\cup \\overline{B}$**\n",
    "\n",
    "\n",
    "\n"
   ]
  }
 ],
 "metadata": {
  "language_info": {
   "name": "python"
  }
 },
 "nbformat": 4,
 "nbformat_minor": 5
}
