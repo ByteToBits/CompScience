{
 "cells": [
  {
   "cell_type": "markdown",
   "id": "f236befb",
   "metadata": {},
   "source": [
    "<h1 style=\"font-size: 1.7rem; font-weight: bold\">Module 2 - Tutorial 1: Set Theory</h1>\n",
    "<p style=\"margin-top: 5px; margin-bottom: 5px;\">Monash University Australia</p>\n",
    "<p style=\"margin-top: 5px; margin-bottom: 5px;\">ITO 4001: Foundations of Computing</p>\n",
    "<p style=\"margin-top: 5px; margin-bottom: 5px;\">Jupyter Notebook by: Tristan Sim Yook Min</p>"
   ]
  },
  {
   "cell_type": "markdown",
   "id": "1638dc2d",
   "metadata": {},
   "source": [
    "---"
   ]
  },
  {
   "cell_type": "markdown",
   "id": "309f183d",
   "metadata": {},
   "source": [
    "**Q1) What is the conjunctive normal form of the following? (A → B) ∧ (B → A)**\n",
    "\n",
    "Step 1: Apply the Implication Law of Equivalence ( $P → Q ≡ ¬P ∨ Q $ )\n",
    "\n",
    "$$(A → B) ∧ (B → A)$$\n",
    "$$( ¬A ∨ B ) ∧ ( ¬B ∨ A )$$\n",
    "\n",
    "**Answer: $( ¬A ∨ B ) ∧ ( ¬B ∨ A )$ is the Conjuctive Normal Form as it is a conjunction of disjunctions of literals.**\n",
    "\n",
    "<br><br>\n",
    "\n",
    "**Q2) Find the negation of the following statement: If all rich people are happy, then all poor people are sad.**\n",
    "\n",
    "Step 1: Identify the Type of Statement, for this it is an Implication Statement and can be written into its Predicate Logic Form.\n",
    "\n",
    "$$\\text{Implciation Statement} = R → H = R ∧ ¬H$$\n",
    "\n",
    "| Statement | Predicate Logic Form |\n",
    "|-----------|----------------------|\n",
    "| If all rich people are happy | $∀x ∈ \\text{ Rich}(x) ∧ Happy(x)$ |\n",
    "| then all poor people are sad | $∀y ∈ \\text{ Poor}(y) ∧ Sad(y)$ |\n",
    "\n",
    "**Answer Negated Statement: If all Rich People are Happy, AND there exist at least 1 Poor Person who is Happy.** \n",
    "<br>\n",
    "**Negated Set Builder Form:** $$(∀x ∈ \\text{ Rich}(x) ∧ Happy(x)) ∧ (∃y ∈ \\text{ Poor}(y) ∧ ¬Sad(y))$$\n",
    "\n",
    "<br><br>\n",
    "\n",
    "**Q3) Write a corresponding predicate sentence of the following English sentences:**\n",
    "\n",
    "- **There are exactly two coins in the box**\n",
    "- **All students get good grades if they study**\n",
    "\n",
    "\n",
    "\n",
    "**Q4) If $A = {0, 1}$ what is $A X ℕ?$**\n",
    "\n",
    "\n",
    "\n",
    "**Q5) Using a Venn diagram, find whether the following is correct: $\\overline{A \\cap B} = \\overline{A} \\cup \\overline{B}$**\n",
    "\n",
    "\n",
    "\n"
   ]
  }
 ],
 "metadata": {
  "language_info": {
   "name": "python"
  }
 },
 "nbformat": 4,
 "nbformat_minor": 5
}
