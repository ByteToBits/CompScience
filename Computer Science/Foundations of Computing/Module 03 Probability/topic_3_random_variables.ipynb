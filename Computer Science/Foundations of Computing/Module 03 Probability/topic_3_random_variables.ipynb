{
 "cells": [
  {
   "cell_type": "markdown",
   "id": "c07e57a3",
   "metadata": {},
   "source": [
    "<h1 style=\"font-size: 1.6rem; font-weight: bold\">Module 3 - Topic 3: Random Variables</h1>\n",
    "<p style=\"margin-top: 5px; margin-bottom: 5px;\">Monash University Australia</p>\n",
    "<p style=\"margin-top: 5px; margin-bottom: 5px;\">ITO 4001: Foundations of Computing</p>\n",
    "<p style=\"margin-top: 5px; margin-bottom: 5px;\">Jupyter Notebook by: Tristan Sim Yook Min</p>"
   ]
  },
  {
   "cell_type": "markdown",
   "id": "7aa7d26f",
   "metadata": {},
   "source": [
    "---"
   ]
  },
  {
   "cell_type": "markdown",
   "id": "cff12369",
   "metadata": {},
   "source": [
    "### **Definition and Classification**\n",
    "\n",
    "A random variable may be defined as a real-valued function over a random experiment's sample space $S$. \n",
    "- The function's domain is $S$\n",
    "- The real numbers associated with the various possible outcomes of the random experiment constitute the range of the function\n",
    "\n",
    "Random variables are classified into two main categories:\n",
    "\n",
    "1. **Discrete Random Variable**:\n",
    "   - Range consists of a finite number or countable infinitude of values\n",
    "   \n",
    "2. **Continuous Random Variable**:\n",
    "   - Range consists of an uncountable infinitude of values\n",
    "\n",
    "#### **Random Sampling**\n",
    "In random sampling, each member of a population has an equal (the same) chance of being selected as a sample.\n",
    "\n",
    "#### **Examples of Discrete Random Variables**\n",
    "\n",
    "#### Example 1: Item Selection from a Manufactured Lot\n",
    "- Let $X$ represent the status of an item drawn randomly\n",
    "- $X=0$ represents drawing a non-defective item\n",
    "- $X=1$ represents drawing a defective item\n",
    "- Range of $X$ is $\\{0,1\\}$\n",
    "- Therefore, $X$ is a discrete random variable\n",
    "\n",
    "#### Example 2: First Failure of a Switch\n",
    "- Let $X$ denote the successive number of the throw on which the first failure of a switch occurs\n",
    "- Range of $X$ is $\\{1,2,3,...,n\\}$\n",
    "- This range consists of a countable infinitude of values\n",
    "- Therefore, $X$ is a discrete random variable\n",
    "\n",
    "#### **Example of a Continuous Random Variable**\n",
    "\n",
    "#### Time to Failure\n",
    "- Let $X$ denote the time to failure of a bus section in an electrostatic precipitator\n",
    "- Range of $X$ consists of all real numbers greater than zero: $(0,\\infty)$\n",
    "- This is an uncountable infinitude of values\n",
    "- Therefore, $X$ is a continuous random variable\n",
    "\n"
   ]
  }
 ],
 "metadata": {
  "language_info": {
   "name": "python"
  }
 },
 "nbformat": 4,
 "nbformat_minor": 5
}
