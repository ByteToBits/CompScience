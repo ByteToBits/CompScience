{
 "cells": [
  {
   "cell_type": "markdown",
   "id": "431f954a",
   "metadata": {},
   "source": [
    "<h1 style=\"font-size: 1.6rem; font-weight: bold\">Module 3 - Topic 2: Distribution</h1>\n",
    "<p style=\"margin-top: 5px; margin-bottom: 5px;\">Monash University Australia</p>\n",
    "<p style=\"margin-top: 5px; margin-bottom: 5px;\">ITO 4001: Foundations of Computing</p>\n",
    "<p style=\"margin-top: 5px; margin-bottom: 5px;\">Jupyter Notebook by: Tristan Sim Yook Min</p>"
   ]
  },
  {
   "cell_type": "markdown",
   "id": "9f122bba",
   "metadata": {},
   "source": [
    "---"
   ]
  },
  {
   "cell_type": "markdown",
   "id": "4d32f4e4",
   "metadata": {},
   "source": [
    "### **Binomial Distribution** \n",
    "\n",
    "The Binomial Distribution is a discrete probability distribution that models the number of successes in a fixed number of independent Bernoulli trials.\n",
    "\n",
    "### **Probability Mass Function**\n",
    "\n",
    "$ f(x) = \\frac{n!}{x!(n-x)!} p^x (1-p)^{n-x} $\n",
    "\n",
    "$ x = 0, 1, ... , n $\n",
    "\n",
    "Where:\n",
    "- $n$ is the number of trials\n",
    "- $x$ is the number of successes (can range from 0 to $n$)\n",
    "- $p$ is the probability of success in a single trial\n",
    "- $\\frac{n!}{x!(n-x)!}$ is the binomial coefficient (also denoted as $\\binom{n}{x}$)\n",
    "\n",
    "### **Properties**\n",
    "\n",
    "- Mean: $\\mu = np$\n",
    "- Variance: $\\sigma^2 = np(1-p)$\n",
    "- Standard Deviation: $\\sigma = \\sqrt{np(1-p)}$"
   ]
  }
 ],
 "metadata": {
  "language_info": {
   "name": "python"
  }
 },
 "nbformat": 4,
 "nbformat_minor": 5
}
