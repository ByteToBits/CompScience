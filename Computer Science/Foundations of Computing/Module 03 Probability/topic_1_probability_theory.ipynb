{
 "cells": [
  {
   "cell_type": "markdown",
   "id": "7362bc35",
   "metadata": {},
   "source": [
    "<h1 style=\"font-size: 1.6rem; font-weight: bold\">Module 3 - Topic 1: Probability Theory</h1>\n",
    "<p style=\"margin-top: 5px; margin-bottom: 5px;\">Monash University Australia</p>\n",
    "<p style=\"margin-top: 5px; margin-bottom: 5px;\">ITO 4001: Foundations of Computing</p>\n",
    "<p style=\"margin-top: 5px; margin-bottom: 5px;\">Jupyter Notebook by: Tristan Sim Yook Min</p>"
   ]
  },
  {
   "cell_type": "markdown",
   "id": "6db9b9cf",
   "metadata": {},
   "source": [
    "---"
   ]
  },
  {
   "cell_type": "markdown",
   "id": "45509e8d",
   "metadata": {},
   "source": [
    "### **Probability Theory Definitions**\n",
    "\n",
    "Probability is a logical framework for quantifying uncertainty and randomness. The mathematical framework for probability is built around **Sets**. The **Sample Space** $S$ of an experiment is the set of a the possible outcomes o the experiment. The Sample Space of the Experiment can be set to be Finite or Infinite. \n",
    "\n",
    "**An Event** like Event $A$ os a subset of the Sample Space $S$, we can say that $A$ occured if the actual outcome is in $A$. The **Probability of an Event** was to count the number of ways the event could unfold and divide by the total number of possible outcomes as shown below. This is assumed the Sample Space if Finite and each event has an equal outcome.\n",
    "\n",
    "$$\\text{Probability of an Event} = \\frac{\\text{Number of Ways the Event Could Happen}}{\\text{Total number of possible outcomes}} \\times 100\\% $$"
   ]
  },
  {
   "cell_type": "code",
   "execution_count": 4,
   "id": "43d88c50",
   "metadata": {},
   "outputs": [
    {
     "name": "stdout",
     "output_type": "stream",
     "text": [
      "Probability as percentage: 50.00%\n"
     ]
    }
   ],
   "source": [
    "# Probability Of An Event \n",
    "numOfEvents = 5 # Number of Ways the Event Could Happen - i.e. 5 Ways\n",
    "totalPossibleOutcome = 10 # Total Number of Possible Outcome - i.e. 10 Ways\n",
    "\n",
    "probOfEvent = numOfEvents/totalPossibleOutcome * 100\n",
    "\n",
    "print(f'Probability as percentage: {probOfEvent:.2f}%')"
   ]
  },
  {
   "cell_type": "markdown",
   "id": "2f3b368b",
   "metadata": {},
   "source": [
    "### **Terminologies**\n",
    "\n",
    "#### Table 1: Key Probability Concepts\n",
    "\n",
    "| Term | Definition |\n",
    "|------|------------|\n",
    "| Outcome | A possible result of a probability experiment. |\n",
    "| Event | A set of outcomes of an experiment to which a probability is assigned. An 'Event' can be One or More Outcomes |\n",
    "| Experiment | Any procedure that can be repeated infinitely and has a well-defined set of possible outcomes. |\n",
    "| Sample Space | All possible outcomes of a probability experiment, usually denoted by S or Ω. |\n",
    "\n",
    "#### Table 2: Types of Events\n",
    "\n",
    "| Type of Event | Description |\n",
    "|---------------|-------------|\n",
    "| Independent Events | Events are independent if each event is not affected by any other events. The probability of both events occurring is the product of their individual probabilities: P(A and B) = P(A) × P(B). |\n",
    "| Dependent Events | Events affected by previous events. The probability of both events occurring uses conditional probability: P(A and B) = P(A) × P(B\\|A). |\n",
    "| Mutually Exclusive Event | Events that cannot occur simultaneously. If events A and B are mutually exclusive, then P(A and B) = 0 and P(A or B) = P(A) + P(B). |"
   ]
  }
 ],
 "metadata": {
  "kernelspec": {
   "display_name": "venv-pyCompute",
   "language": "python",
   "name": "python3"
  },
  "language_info": {
   "codemirror_mode": {
    "name": "ipython",
    "version": 3
   },
   "file_extension": ".py",
   "mimetype": "text/x-python",
   "name": "python",
   "nbconvert_exporter": "python",
   "pygments_lexer": "ipython3",
   "version": "3.13.0"
  }
 },
 "nbformat": 4,
 "nbformat_minor": 5
}
